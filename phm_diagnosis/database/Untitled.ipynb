{
    "cells": [
        {
            "cell_type": "code",
            "execution_count": 2,
            "id": "6f16a3d0-0449-4d18-bc9a-693fce59c94e",
            "metadata": {},
            "outputs": [
                {
                    "name": "stdout",
                    "output_type": "stream",
                    "text": [
                        "Collecting pika\n",
                        "  Downloading pika-1.3.1-py3-none-any.whl (155 kB)\n",
                        "\u001b[K     |████████████████████████████████| 155 kB 737 kB/s eta 0:00:01\n",
                        "\u001b[?25hInstalling collected packages: pika\n",
                        "Successfully installed pika-1.3.1\n"
                    ]
                }
            ],
            "source": [
                "!pip install pika\n",
                "import pika"
            ]
        },
        {
            "cell_type": "code",
            "execution_count": 7,
            "id": "0bcc807b-5406-422b-aa04-532577e71eb9",
            "metadata": {},
            "outputs": [
                {
                    "data": {
                        "text/plain": [
                            "['_OnChannelOpenedArgs',\n",
                            " '_OnClosedArgs',\n",
                            " '__class__',\n",
                            " '__delattr__',\n",
                            " '__dict__',\n",
                            " '__dir__',\n",
                            " '__doc__',\n",
                            " '__enter__',\n",
                            " '__eq__',\n",
                            " '__exit__',\n",
                            " '__format__',\n",
                            " '__ge__',\n",
                            " '__getattribute__',\n",
                            " '__gt__',\n",
                            " '__hash__',\n",
                            " '__init__',\n",
                            " '__init_subclass__',\n",
                            " '__le__',\n",
                            " '__lt__',\n",
                            " '__module__',\n",
                            " '__ne__',\n",
                            " '__new__',\n",
                            " '__reduce__',\n",
                            " '__reduce_ex__',\n",
                            " '__repr__',\n",
                            " '__setattr__',\n",
                            " '__sizeof__',\n",
                            " '__str__',\n",
                            " '__subclasshook__',\n",
                            " '__weakref__',\n",
                            " '_acquire_event_dispatch',\n",
                            " '_cleanup',\n",
                            " '_create_connection',\n",
                            " '_dispatch_channel_events',\n",
                            " '_dispatch_connection_events',\n",
                            " '_flush_output',\n",
                            " '_on_connection_blocked',\n",
                            " '_on_connection_unblocked',\n",
                            " '_on_threadsafe_callback',\n",
                            " '_on_timer_ready',\n",
                            " '_reap_last_connection_workflow_error',\n",
                            " '_request_channel_dispatch',\n",
                            " 'add_callback_threadsafe',\n",
                            " 'add_on_connection_blocked_callback',\n",
                            " 'add_on_connection_unblocked_callback',\n",
                            " 'basic_nack',\n",
                            " 'basic_nack_supported',\n",
                            " 'call_later',\n",
                            " 'channel',\n",
                            " 'close',\n",
                            " 'consumer_cancel_notify',\n",
                            " 'consumer_cancel_notify_supported',\n",
                            " 'exchange_exchange_bindings',\n",
                            " 'exchange_exchange_bindings_supported',\n",
                            " 'is_closed',\n",
                            " 'is_open',\n",
                            " 'process_data_events',\n",
                            " 'publisher_confirms',\n",
                            " 'publisher_confirms_supported',\n",
                            " 'remove_timeout',\n",
                            " 'sleep',\n",
                            " 'update_secret']"
                        ]
                    },
                    "execution_count": 7,
                    "metadata": {},
                    "output_type": "execute_result"
                }
            ],
            "source": [
                "dir(pika.BlockingConnection)"
            ]
        }
    ],
    "metadata": {
        "kernelspec": {
            "display_name": "Python 3 (ipykernel)",
            "language": "python",
            "name": "python3"
        },
        "language_info": {
            "codemirror_mode": {
                "name": "ipython",
                "version": 3
            },
            "file_extension": ".py",
            "mimetype": "text/x-python",
            "name": "python",
            "nbconvert_exporter": "python",
            "pygments_lexer": "ipython3",
            "version": "3.8.10"
        }
    },
    "nbformat": 4,
    "nbformat_minor": 5
}
